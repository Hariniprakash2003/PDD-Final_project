{
 "cells": [
  {
   "cell_type": "code",
   "execution_count": null,
   "id": "b5d63978-de43-42b7-ab17-6d8d8b683650",
   "metadata": {},
   "outputs": [],
   "source": []
  }
 ],
 "metadata": {
  "kernelspec": {
   "display_name": "",
   "name": ""
  },
  "language_info": {
   "name": ""
  }
 },
 "nbformat": 4,
 "nbformat_minor": 5
}
